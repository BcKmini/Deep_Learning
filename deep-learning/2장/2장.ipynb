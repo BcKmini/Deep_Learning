{
 "cells": [
  {
   "cell_type": "markdown",
   "metadata": {},
   "source": [
    "# 📌 퍼셉트론 알고리즘\n",
    "-> 신경망(딥러닝)의 기원이 되는 알고리즘\n",
    "다수의 신호를 입력받아 하나의 신호를 출력. (1이나 0) 두가지의 값을 가진다.\n",
    "뉴런\n",
    "노드\n",
    "가중치\n",
    "(한계)임계값\n"
   ]
  },
  {
   "cell_type": "markdown",
   "metadata": {},
   "source": [
    "## 📌 AND 게이트\n",
    "진리표(입력 신호와 출력 신호의 대응 표)\n",
    "\n",
    "## 📌 NAND(Not AND) 게이트와 OR 게이트\n",
    "\n",
    "---\n",
    "퍼셉트론의 매개변수 값을 정하는 것은 인간이 하며 진리표라는 '학습 데이터'를 보면서 매개변수의 값을 생각한다. \n",
    "세가지의 게이트에서 다른 것은 매개변수(가중치와 임계값)의 값뿐이다.\n"
   ]
  },
  {
   "cell_type": "code",
   "execution_count": 2,
   "metadata": {},
   "outputs": [],
   "source": [
    "# 간단한 구현 AND함수\n",
    "def AND(x1, x2):\n",
    "    w1, w2, theta = 0.5, 0.5, 0.7\n",
    "    tmp = x1*w1 + x2*w2\n",
    "    if tmp <= theta:\n",
    "        return 0\n",
    "    elif tmp > theta:\n",
    "        return 1\n",
    "\n",
    "# 매개변수 w1, w2, theta는 함수 안에서 초기화 하고 가중치를 곱한 \n",
    "# 임게값을 넘으면 1, 그 외에는 0을 반환"
   ]
  },
  {
   "cell_type": "code",
   "execution_count": null,
   "metadata": {},
   "outputs": [
    {
     "name": "stdout",
     "output_type": "stream",
     "text": [
      "0\n",
      "0\n",
      "0\n",
      "1\n"
     ]
    }
   ],
   "source": [
    "# 출력\n",
    "print(AND(0,0))\n",
    "print(AND(1,0))\n",
    "print(AND(0,1))\n",
    "print(AND(1,1))\n",
    "\n",
    "'''출력값\n",
    "0\n",
    "0\n",
    "0\n",
    "1\n",
    "'''"
   ]
  },
  {
   "cell_type": "code",
   "execution_count": null,
   "metadata": {},
   "outputs": [
    {
     "name": "stdout",
     "output_type": "stream",
     "text": [
      "[0.  0.5]\n",
      "0.5\n",
      "-0.19999999999999996\n"
     ]
    }
   ],
   "source": [
    "# 가중치에 편향 도입 \n",
    "import numpy as np\n",
    "x = np.array([0, 1]) #입력\n",
    "w = np.array([0.5, 0.5]) #가중치\n",
    "b = -0.7 #편향\n",
    "print(w*x)\n",
    "print(np.sum(w*x))\n",
    "print(np.sum(w*x) + b)"
   ]
  },
  {
   "cell_type": "code",
   "execution_count": null,
   "metadata": {},
   "outputs": [],
   "source": [
    "# 가중치와 편향 구현하기\n",
    "def AND(x1, x2):\n",
    "    x = np.array([x1, x2])\n",
    "    w = np.array([0.5, 0.5])\n",
    "    b = -0.7\n",
    "    tmp = np.sum(w*x) + b\n",
    "    if tmp <= 0:\n",
    "        return 0\n",
    "    else: \n",
    "        return 1\n",
    "    \n",
    "'''\n",
    "가중치와 편향 계산: tmp = np.sum(w*x) + b는 가중치와 입력을 곱하고 그 합에 편향 b를 더한 값입니다.\n",
    "np.sum(w*x)에서 w와 x의 각 요소를 곱하고 그 결과를 더하여 하나의 값으로 만듭니다. 이 값에 편향 b를 더하여 최종 값을 얻습니다.\n",
    "\n",
    "출력 결정: tmp 값이 0보다 작거나 같으면 0을, 그렇지 않으면 1을 반환합니다.\n",
    "즉, tmp 값이 임계값(0)을 넘지 않으면 0, 넘으면 1로 출력합니다.\n",
    "'''"
   ]
  },
  {
   "cell_type": "code",
   "execution_count": 13,
   "metadata": {},
   "outputs": [
    {
     "name": "stdout",
     "output_type": "stream",
     "text": [
      "0\n",
      "0\n",
      "0\n",
      "1\n"
     ]
    }
   ],
   "source": [
    "print(AND(0,0))\n",
    "print(AND(1,0))\n",
    "print(AND(0,1))\n",
    "print(AND(1,1))"
   ]
  },
  {
   "cell_type": "code",
   "execution_count": null,
   "metadata": {},
   "outputs": [
    {
     "name": "stdout",
     "output_type": "stream",
     "text": [
      "1\n",
      "1\n",
      "1\n",
      "0\n"
     ]
    }
   ],
   "source": [
    "# NAND 게이트 구현\n",
    "def NAND(x1, x2):\n",
    "    x = np.array([x1, x2])\n",
    "    w = np.array([-0.5, -0.5])\n",
    "    b = 0.7\n",
    "    tmp = np.sum(w*x) + b\n",
    "    if tmp <= 0:\n",
    "        return 0\n",
    "    else:\n",
    "        return 1\n",
    "\n",
    "print(NAND(0,0))\n",
    "print(NAND(1,0))\n",
    "print(NAND(0,1))\n",
    "print(NAND(1,1))\n",
    "\n",
    "'''출력값\n",
    "1\n",
    "1\n",
    "1\n",
    "0\n",
    "'''"
   ]
  },
  {
   "cell_type": "code",
   "execution_count": null,
   "metadata": {},
   "outputs": [
    {
     "name": "stdout",
     "output_type": "stream",
     "text": [
      "0\n",
      "1\n",
      "1\n",
      "1\n"
     ]
    }
   ],
   "source": [
    "# OR 게이트 구현\n",
    "def OR(x1, x2):\n",
    "    x = np.array([x1, x2])\n",
    "    w = np.array([0.5, 0.5])\n",
    "    b = -0.2\n",
    "    tmp = np.sum(w*x) + b\n",
    "    if tmp <= 0:\n",
    "        return 0\n",
    "    else:\n",
    "        return 1\n",
    "    \n",
    "print(OR(0,0))\n",
    "print(OR(1,0))\n",
    "print(OR(0,1))\n",
    "print(OR(1,1))\n",
    "\n",
    "'''출력값\n",
    "0\n",
    "1\n",
    "1\n",
    "1\n",
    "'''"
   ]
  },
  {
   "cell_type": "markdown",
   "metadata": {},
   "source": [
    "# 📌 XOR 게이트\n",
    "배타적 논리합이라는 논리 회로\n",
    "x1과 x2 중 한쪽이 1일 때만 1을 출력\n",
    "-> 가중치 매개변수 값을 어떻게 설정하면 될까?\n",
    "배운 퍼셉트트론으로 불가능하다.\n",
    "\n",
    "퍼셉트론은 직선 하나로 나눈 영역만 표현할 수 있다는 한계가 있다.\n",
    "곡선은 표현할 수 없음, \n",
    "+ 곡선의 영역을 비선형, 직선의 영역을 선형 영역이라고 한다. "
   ]
  },
  {
   "cell_type": "markdown",
   "metadata": {},
   "source": [
    "# 📌 다층 퍼셉트론이 충돌한다면\n",
    "층을 하나 더 쌓아서 XOR 게이트 문제를 다른 관점으로 봐보자\n",
    "2층 구조를 사용해 퍼셉트론으로 XOR 게이트 구현 (AND, NAND, OR를 조합해서 만들기)"
   ]
  },
  {
   "cell_type": "code",
   "execution_count": null,
   "metadata": {},
   "outputs": [
    {
     "name": "stdout",
     "output_type": "stream",
     "text": [
      "0\n",
      "1\n",
      "1\n",
      "0\n"
     ]
    }
   ],
   "source": [
    "# XOR 게이트 구현\n",
    "def XOR(x1, x2):\n",
    "    s1 = NAND(x1, x2)\n",
    "    s2 = OR(x1, x2)\n",
    "    y = AND(s1, s2)\n",
    "    return y\n",
    "\n",
    "print(XOR(0,0))\n",
    "print(XOR(1,0))\n",
    "print(XOR(0,1))\n",
    "print(XOR(1,1))\n",
    "\n",
    "'''출력값\n",
    "0\n",
    "1\n",
    "1\n",
    "0\n",
    "'''"
   ]
  },
  {
   "cell_type": "markdown",
   "metadata": {},
   "source": [
    "# \"NAND에서 컴퓨터까지\"\n",
    "컴퓨터의 기본 논리 회로에서부터 고급 컴퓨터 시스템을 구성하는 과정까지를 설명하는 개념입니다. 이 접근 방식에서는 컴퓨터를 이루는 가장 기초적인 논리 게이트, 특히 NAND 게이트에서 출발하여, 점차적으로 더욱 복잡한 시스템으로 발전해가는 과정을 다룹니다.\n",
    "\n",
    "    NAND 게이트: NAND 게이트는 모든 논리 연산을 구현할 수 있는 기본적인 논리 게이트로, 이를 사용하여 다양한 논리 회로를 구성할 수 있습니다.\n",
    "\n",
    "    논리 회로와 연산: NAND 게이트를 사용해 AND, OR, NOT 등의 기본 논리 연산을 구현하고, 이를 조합하여 다양한 논리 회로를 설계할 수 있습니다. 이러한 회로들은 컴퓨터의 연산을 수행하는 기초 단위입니다.\n",
    "\n",
    "    기본적인 연산 장치: 논리 회로를 이용해 산술 연산을 수행하는 장치(예: 가산기)를 만들고, 이를 조합하여 ALU(Arithmetic Logic Unit)와 같은 핵심 연산 장치를 구성할 수 있습니다.\n",
    "\n",
    "    레지스터와 메모리: 데이터를 저장하고 읽어들이는 레지스터와 메모리도 NAND 게이트를 통해 구현할 수 있습니다. 이들은 컴퓨터가 데이터를 유지하고 필요한 연산에 활용할 수 있게 하는 중요한 역할을 합니다.\n",
    "\n",
    "    CPU와 제어 장치: ALU와 메모리를 포함한 구성 요소들을 하나로 통합하여, 명령어를 해석하고 실행하는 CPU를 구성하게 됩니다. 제어 장치는 프로그램을 순서대로 실행하게 하고, 다양한 연산 및 데이터 흐름을 조절합니다.\n",
    "\n",
    "    컴퓨터 시스템 완성: NAND 게이트에서 시작해, 점진적으로 구성 요소를 추가하고 통합하여, 최종적으로 우리가 사용하는 컴퓨터가 완성됩니다."
   ]
  },
  {
   "cell_type": "markdown",
   "metadata": {},
   "source": [
    "# 🚀 요약\n",
    "퍼셉트론은 입출력을 갖춘 알고리즘이다. 입력을 주면 정해진 규칙에 따른 값을 출력한다.\n",
    "퍼셉트론에서는 '가중치'와 '편향'을 매개변수로 설정한다.\n",
    "퍼셉트론으로 AND, OR 게이트 등의 논리 회로를 표현할 수 있다.\n",
    "XOR 게이트는 단층 퍼셉트론으로는 표현 할 수 없다.\n",
    "2층 퍼셉트론을 이용하면 XOR 게이트를 표현할 수 있다.\n",
    "단층 퍼셉트론은 직성형 영역만 표현할 수 있고, 다층 퍼셉트론은 비선형 영역도 표현 할 수 있다. \n",
    "다층 퍼셉트론은 (이론상) 컴퓨터를 표현 할 수 있다. "
   ]
  }
 ],
 "metadata": {
  "kernelspec": {
   "display_name": "mini",
   "language": "python",
   "name": "python3"
  },
  "language_info": {
   "codemirror_mode": {
    "name": "ipython",
    "version": 3
   },
   "file_extension": ".py",
   "mimetype": "text/x-python",
   "name": "python",
   "nbconvert_exporter": "python",
   "pygments_lexer": "ipython3",
   "version": "3.8.20"
  }
 },
 "nbformat": 4,
 "nbformat_minor": 2
}
