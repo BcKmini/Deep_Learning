{
 "cells": [
  {
   "cell_type": "markdown",
   "metadata": {},
   "source": [
    "# 📌 1-1_파이썬이란?\n",
    "파이썬(Python)은 읽기 쉽고 쓰기 쉬운 문법을 가진 고급 프로그래밍 언어입니다. 파이썬은 다양한 용도로 사용되며, 특히 데이터 분석, 인공지능, 웹 개발, 자동화 스크립트 작성 등에서 널리 사용됩니다. 객체 지향 프로그래밍(OOP)과 함수형 프로그래밍(FP)을 지원하며, 풍부한 표준 라이브러리와 다양한 외부 라이브러리가 있어 개발자들이 손쉽게 필요한 기능을 구현할 수 있습니다."
   ]
  },
  {
   "cell_type": "markdown",
   "metadata": {},
   "source": [
    "# 📌 1-2_파이썬 버전 및 라이브러리\n",
    "- Numpy -> 수치 계산용 라이브러리 사용할 예정 \n",
    "- matplotlib -> 그래프를 그려주는 라이브러리 사용할 예정\n",
    "Note_다음의 프로그래밍 언어와 라이브러리를 사용한다.\n",
    "\n",
    "📌 파이썬 3 -> python --version_pyhthon 3.8.20 사용할 예정\n",
    "\n",
    "📌 Numpy -> 1.24.3 사용 예정\n",
    "\n",
    "📌 mataplotlib -> 3.7.5"
   ]
  },
  {
   "cell_type": "code",
   "execution_count": 38,
   "metadata": {},
   "outputs": [
    {
     "data": {
      "text/plain": [
       "9"
      ]
     },
     "execution_count": 38,
     "metadata": {},
     "output_type": "execute_result"
    }
   ],
   "source": [
    "# 인터프리터 프로그래밍\n",
    "3 ** 2"
   ]
  },
  {
   "cell_type": "code",
   "execution_count": 39,
   "metadata": {},
   "outputs": [
    {
     "data": {
      "text/plain": [
       "3"
      ]
     },
     "execution_count": 39,
     "metadata": {},
     "output_type": "execute_result"
    }
   ],
   "source": [
    "1 + 2"
   ]
  },
  {
   "cell_type": "code",
   "execution_count": 40,
   "metadata": {},
   "outputs": [
    {
     "data": {
      "text/plain": [
       "1.4"
      ]
     },
     "execution_count": 40,
     "metadata": {},
     "output_type": "execute_result"
    }
   ],
   "source": [
    "7 / 5"
   ]
  },
  {
   "cell_type": "code",
   "execution_count": 41,
   "metadata": {},
   "outputs": [
    {
     "data": {
      "text/plain": [
       "-1"
      ]
     },
     "execution_count": 41,
     "metadata": {},
     "output_type": "execute_result"
    }
   ],
   "source": [
    "1 - 2"
   ]
  },
  {
   "cell_type": "code",
   "execution_count": 42,
   "metadata": {},
   "outputs": [
    {
     "name": "stdout",
     "output_type": "stream",
     "text": [
      "<class 'int'>\n",
      "<class 'float'>\n",
      "<class 'str'>\n"
     ]
    }
   ],
   "source": [
    "# 자료형_ 정수, 실수, 문자열 형태 type() 사용\n",
    "print(type(10))\n",
    "print(type(2.718))\n",
    "print(type(\"hello\"))"
   ]
  },
  {
   "cell_type": "code",
   "execution_count": 43,
   "metadata": {},
   "outputs": [
    {
     "name": "stdout",
     "output_type": "stream",
     "text": [
      "10\n",
      "100\n",
      "<class 'float'>\n"
     ]
    }
   ],
   "source": [
    "# 변수_x,y 등의 알파벳 사용, 변수를 사용하여 계산하거나 다른 값을 대입 할 수 있다.\n",
    "x = 10\n",
    "print(x)\n",
    "x = 100\n",
    "print(100)\n",
    "y = 3.14\n",
    "x * y\n",
    "print(type(x * y))"
   ]
  },
  {
   "cell_type": "code",
   "execution_count": 44,
   "metadata": {},
   "outputs": [
    {
     "name": "stdout",
     "output_type": "stream",
     "text": [
      "[1, 2, 3, 4, 5]\n",
      "5\n",
      "1\n",
      "[1, 2, 3, 4, 99]\n",
      "[99]\n"
     ]
    }
   ],
   "source": [
    "# 여러 데이터를 리스트로 저장 가능, 인덱스는 0부터 시작 \n",
    "# 슬라이성 기법 -> 범위를 지정해 원하는 부분 리스트를 얻을 수 있다.\n",
    "a = [1, 2, 3, 4, 5]\n",
    "print(a)\n",
    "print(len(a))\n",
    "print(a[0])\n",
    "a[4] = 99\n",
    "print(a)\n",
    "a[1:]\n",
    "print(a[-1:])"
   ]
  },
  {
   "cell_type": "code",
   "execution_count": 45,
   "metadata": {},
   "outputs": [
    {
     "name": "stdout",
     "output_type": "stream",
     "text": [
      "{'height': 100}\n",
      "{'height': 100, 'weight': 70}\n"
     ]
    }
   ],
   "source": [
    "# 딕셔너리 - 키와 값을 한쌍으로 저장, 단어와 그 의미를 짝지음\n",
    "me = {'height':100}\n",
    "print(me)\n",
    "me['weight'] = 70\n",
    "print(me)"
   ]
  },
  {
   "cell_type": "code",
   "execution_count": 46,
   "metadata": {},
   "outputs": [
    {
     "name": "stdout",
     "output_type": "stream",
     "text": [
      "<class 'bool'>\n",
      "False\n"
     ]
    },
    {
     "data": {
      "text/plain": [
       "True"
      ]
     },
     "execution_count": 46,
     "metadata": {},
     "output_type": "execute_result"
    }
   ],
   "source": [
    "# bool - 자료형_True, False 두 값 중 하나를 취함(and,or,not 사용 가능)\n",
    "hungry = True\n",
    "sleep = False\n",
    "print(type(hungry))\n",
    "print(not hungry)\n",
    "hungry or sleep"
   ]
  },
  {
   "cell_type": "code",
   "execution_count": 47,
   "metadata": {},
   "outputs": [
    {
     "name": "stdout",
     "output_type": "stream",
     "text": [
      "I'm hungry\n",
      "I'm not hungry\n",
      "I'm sleepy\n"
     ]
    }
   ],
   "source": [
    "# if문 - 조건에 따라서 달리 처치하려면 if/else문 사용\n",
    "hungry = True\n",
    "if hungry:\n",
    "    print(\"I'm hungry\")\n",
    "\n",
    "hungry = False\n",
    "if hungry:\n",
    "    print(\"I'm hungry\")   # 들여쓰기는 공백 문자로\n",
    "else:\n",
    "    print(\"I'm not hungry\")\n",
    "    print(\"I'm sleepy\")\n"
   ]
  },
  {
   "cell_type": "code",
   "execution_count": 48,
   "metadata": {},
   "outputs": [
    {
     "name": "stdout",
     "output_type": "stream",
     "text": [
      "1\n",
      "2\n",
      "3\n"
     ]
    }
   ],
   "source": [
    "# for문 -> 반복(루프) 처리에는 for 문을 사용함\n",
    "for i in[1, 2, 3]:\n",
    "    print(i)"
   ]
  },
  {
   "cell_type": "code",
   "execution_count": 49,
   "metadata": {},
   "outputs": [
    {
     "name": "stdout",
     "output_type": "stream",
     "text": [
      "Hello World!\n",
      "Hello cat!\n"
     ]
    }
   ],
   "source": [
    "# 함수특정 기능을 수행하는 일련의 명령들을 묶어 하나의 함수(function)로 정의할 수 있다.\n",
    "def hello():\n",
    "    print(\"Hello World!\")\n",
    "\n",
    "hello()\n",
    "# 함수는 인수를 취할 수 있습니다. 또한, + 연산자를 사용하여 문자열을 이어 붙일 수 있습니다.\n",
    "def hello(object):\n",
    "   print(\"Hello \" + object + \"!\")\n",
    "\n",
    "hello(\"cat\")\n"
   ]
  },
  {
   "cell_type": "markdown",
   "metadata": {},
   "source": [
    "# 1.4 📌 파이썬 스크립트 파일\n",
    "지금까지 파이썬 인터프리터를 활용하는 예를 보았습니다. 파이썬 인터프리터는 파이썬 코드를 대화식으로 실행해보며 간단한 실험을 수행하기에 딱 좋습니다. 그러나 긴 작업을 수행해야 한다면, 매번 코드를 입력해야 하는 이 방식은 조금 불편하겠죠. 이럴 때는 파이썬 프로그램을 파일로 저장하고 그 파일을 (함께) 실행하는 방법이 있습니다. 이번 절에서는 그런 파이썬 스크립트 파일의 예를 살펴보겠습니다."
   ]
  },
  {
   "cell_type": "markdown",
   "metadata": {},
   "source": [
    "## 14_1\n",
    "\n",
    "이어서 터미널을 열고 앞의 hungry.py를 저장한 디렉터리로 이동합니다. 그런 다음 파일 이름인 “hungry.py”를 인수로 python 명령을 실행합니다. 여기에서는 hungry.py가 ~/deep-learning-from-scratch/ch01 디렉터리에 있다고 가정합니다.\n",
    "\n",
    ">$ cd ~/deep-learning # 디렉터리로 이동 \n",
    "\n",
    ">$ python hungry.py\n",
    "\n",
    ">I'm hungry!\n",
    "\n",
    "이처럼 파이썬 코드를 담은 파일을 인수로 지정해 파이썬 프로그램을 실행할 수 있다."
   ]
  },
  {
   "cell_type": "markdown",
   "metadata": {},
   "source": [
    "## 14_2\n",
    "지금까지 int와 str 등의 자료형을 살펴봤습니다(그리고 type ( ) 함수로는 원하는 데이터의 자료형을 알아낼 수 있었죠). 이들은 내장된 자료형, 즉 파이썬이 기본으로 제공하는 자료형입니다. 이번 절에서는 새로운 클래스를 정의합니다. 개발자가 직접 클래스를 정의하면 독자적인 자료형을 만들 수 있습니다. 또한, 클래스에는 그 클래스만의 전용 함수(메서드)와 속성을 정의할 수도 있습니다.\n",
    "\n",
    "파이썬에서는 class라는 키워드를 사용하여 클래스를 정의합니다. 클래스의 구조는 다음과 같습니다.\n",
    "\n",
    ">class 클래스 이름:  \n",
    ">    def __init__(self, 인수, ...): # 생성자  \n",
    ">        ...  \n",
    ">    def 메서드 이름 1(self, 인수, ...): # 메서드 1  \n",
    ">        ...  \n",
    ">    def 메서드 이름 2(self, 인수, ...): # 메서드 2  \n",
    ">        ...  \n",
    "\n",
    "클래스 정의에는 **__init__**라는 특별한 메서드가 있는데, 클래스를 초기화하는 방법을 정의합니다. 이 초기화용 메서드를 생성자(constructor)라고도 하며, 클래스의 인스턴스가 만들어질 때 한 번만 불립니다. 또, 파이썬에서는 메서드의 첫 번째 인수로 자신(자신의 인스턴스)을 나타내는 self를 명시적으로 쓰는 것이 특징입니다(다른 언어를 쓰던 사람은 이처럼 self를 쓰는 규칙을 기묘하게 느낄지도 모르겠네요).\n",
    "\n",
    "그럼 간단한 클래스를 하나 만들어보겠습니다. 다음 코드를 man.py 파일로 저장하세요.\n",
    "\n",
    ">class Man:  \n",
    ">    def __init__(self, name):    \n",
    ">        self.name = name    \n",
    ">        print(\"Initialized!\")    \n",
    ">  \n",
    ">    def hello(self):  \n",
    ">        print(\"Hello \" + self.name + \"!\")  \n",
    ">  \n",
    ">    def goodbye(self):  \n",
    ">        print(\"Good-bye \" + self.name + \"!\")  \n",
    ">m = Man(\"David\")   \n",
    ">m.hello()   \n",
    ">m.goodbye()  \n",
    "\n",
    "이제 터미널에서 man.py를 실행합니다.\n",
    "\n",
    "$ python man.py\n",
    "Initialized!\n",
    "Hello David!\n",
    "Good-bye David!\n",
    "\n",
    "여기에서는 Man이라는 새로운 클래스를 정의했습니다. 그리고 Man 클래스에서 m이라는 인스턴스(객체)를 생성합니다.\n",
    "\n",
    "Man의 생성자(초기화 메서드)는 name이라는 인수를 받고, 그 인수로 인스턴스 변수인 self.name을 초기화합니다. 인스턴스 변수는 인스턴스별로 저장되는 변수입니다. 파이썬에서는 self.name처럼 self 다음에 속성 이름을 써서 인스턴스 변수를 작성하거나 접근할 수 있습니다."
   ]
  },
  {
   "cell_type": "markdown",
   "metadata": {},
   "source": [
    "# 1.5 📌 넘파이\n",
    "\n",
    "딥러닝을 구현하다 보면 배열이나 행렬 계산이 많이 등장합니다. 넘파이의 배열 클래스인 numpy.array에는 편리한 메서드가 많이 준비되어 있어, 딥러닝을 구현할 때 이들 메서드를 이용합니다. 이번 절에서는 앞으로 사용할 넘파이에 대해서 간략히 설명합니다."
   ]
  },
  {
   "cell_type": "markdown",
   "metadata": {},
   "source": [
    "## 1.5.1 넘파이 가져오기\n",
    "\n",
    "넘파이는 외부 라이브러리입니다. 여기서 말하는 ‘외부’는 표준 파이썬에는 포함되지 않는다는 것입니다. 그래서 우선 넘파이 라이브러리를 쓸 수 있도록 가져와야(import) 합니다.\n",
    "\n",
    "> import numpy as np  \n",
    "\n",
    "파이썬에서는 라이브러리를 읽기 위해서 import 문을 이용합니다. 여기에서는 import numpy as np라고 썼는데, 직역하면 “numpy를 np라는 이름으로 가져와라”가 됩니다. 이렇게 해두면 앞으로 넘파이가 제공하는 메서드를 np를 통해 참조할 수 있습니다."
   ]
  },
  {
   "cell_type": "code",
   "execution_count": 50,
   "metadata": {},
   "outputs": [],
   "source": [
    "import numpy as np"
   ]
  },
  {
   "cell_type": "markdown",
   "metadata": {},
   "source": [
    "## 1.5.2 넘파이 배열 생성하기  \n",
    "\n",
    "넘파이 배열을 만들 때는 np.array ( ) 메서드를 이용합니다. np.array ( )는 파이썬의 리스트를 인수로 받아 넘파이 라이브러리가 제공하는 특수한 형태의 배열(numpy.ndarray )을 반환합니다.  \n",
    "\n",
    "> x = np.array([1.0, 2.0, 3.0])  \n",
    "> print(x)  \n",
    "[1. 2. 3.]\n",
    "> type(x)  \n",
    "<class 'numpy.ndarray'>\n"
   ]
  },
  {
   "cell_type": "code",
   "execution_count": 51,
   "metadata": {},
   "outputs": [
    {
     "name": "stdout",
     "output_type": "stream",
     "text": [
      "[1. 2. 3.]\n"
     ]
    },
    {
     "data": {
      "text/plain": [
       "numpy.ndarray"
      ]
     },
     "execution_count": 51,
     "metadata": {},
     "output_type": "execute_result"
    }
   ],
   "source": [
    "x = np.array([1.0, 2.0, 3.0])  \n",
    "print(x)  \n",
    "type(x)"
   ]
  },
  {
   "cell_type": "markdown",
   "metadata": {},
   "source": [
    "## 1.5.3 넘파이의 산술 연산\n",
    "\n",
    "다음은 넘파이 배열로 산술 연산을 수행하는 예입니다.\n",
    "\n",
    "여기에서 주의할 점은 배열 x와 y의 원소 수가 같다는 것입니다(둘 다 원소를 3개씩 갖는 1차원 배열). x와 y의 원소 수가 같다면 산술 연산은 각 원소에 대해서 행해집니다. 원소 수가 다르면 오류가 발생하니 원소 수 맞추기는 중요하답니다. 참고로, ‘원소별’이라는 말은 영어로 element-wise라고 합니다. 예컨대 ‘원소별 곱셈’은 element-wise product라고 합니다.\n",
    "\n",
    "넘파이 배열은 원소별 계산뿐 아니라 넘파이 배열과 수치 하나(스칼라값)의 조합으로 된 산술 연산도 수행할 수 있습니다. 이 경우 스칼라값과의 계산이 넘파이 배열의 원소별로 한 번씩 수행됩니다. 이 기능을 브로드캐스트라고 합니다(자세한 것은 1.5.5절에서 설명하겠습니다)."
   ]
  },
  {
   "cell_type": "code",
   "execution_count": 52,
   "metadata": {},
   "outputs": [
    {
     "name": "stdout",
     "output_type": "stream",
     "text": [
      "[3. 6. 9.]\n",
      "[-1. -2. -3.]\n",
      "[ 2.  8. 18.]\n",
      "[0.5 0.5 0.5]\n"
     ]
    }
   ],
   "source": [
    "x = np.array([1.0, 2.0, 3.0])\n",
    "y = np.array([2.0, 4.0, 6.0])\n",
    "\n",
    "print(x + y) # 원소별 덧셈\n",
    "\n",
    "print(x - y)\n",
    "\n",
    "print(x * y) # 원소별 곱셈\n",
    "\n",
    "print(x / y)\n"
   ]
  },
  {
   "cell_type": "code",
   "execution_count": 53,
   "metadata": {},
   "outputs": [
    {
     "data": {
      "text/plain": [
       "array([0.5, 1. , 1.5])"
      ]
     },
     "execution_count": 53,
     "metadata": {},
     "output_type": "execute_result"
    }
   ],
   "source": [
    "x = np.array([1.0, 2.0, 3.0])\n",
    "x / 2.0"
   ]
  },
  {
   "cell_type": "markdown",
   "metadata": {},
   "source": [
    "## 1.5.4 넘파이의 N차원 배열\n",
    "\n",
    "넘파이는 1차원 배열(1줄로 늘어선 배열)뿐 아니라 다차원 배열도 작성할 수 있습니다. 예를 들어 2차원 배열(행렬)은 다음처럼 작성합니다.\n",
    "\n",
    "> A = np.array([[1, 2], [3, 4]])  \n",
    "> print(A)  \n",
    "[[1 2]  \n",
    " [3 4]]  \n",
    "> A.shape  \n",
    "(2, 2)  \n",
    "> A.dtype   \n",
    "dtype('int64')  \n",
    "\n",
    "방금 2×2의 A라는 행렬을 작성했습니다. 행렬의 형상은 shape으로, 행렬에 담긴 원소의 자료형은 dtype으로 알 수 있습니다. 이어서 행렬의 산술 연산을 봅시다."
   ]
  },
  {
   "cell_type": "code",
   "execution_count": 54,
   "metadata": {},
   "outputs": [
    {
     "name": "stdout",
     "output_type": "stream",
     "text": [
      "[[1 2]\n",
      " [3 4]]\n"
     ]
    },
    {
     "data": {
      "text/plain": [
       "dtype('int64')"
      ]
     },
     "execution_count": 54,
     "metadata": {},
     "output_type": "execute_result"
    }
   ],
   "source": [
    "A = np.array([[1, 2], [3, 4]])\n",
    "print(A)\n",
    "\n",
    "A.shape\n",
    "\n",
    "A.dtype"
   ]
  },
  {
   "cell_type": "code",
   "execution_count": 55,
   "metadata": {},
   "outputs": [
    {
     "name": "stdout",
     "output_type": "stream",
     "text": [
      "[[ 4  2]\n",
      " [ 3 10]]\n",
      "[[ 3  0]\n",
      " [ 0 24]]\n"
     ]
    }
   ],
   "source": [
    "B = np.array([[3, 0], [0, 6]])\n",
    "print(A + B)\n",
    "print(A * B)\n"
   ]
  },
  {
   "cell_type": "code",
   "execution_count": 56,
   "metadata": {},
   "outputs": [
    {
     "name": "stdout",
     "output_type": "stream",
     "text": [
      "[[1 2]\n",
      " [3 4]]\n"
     ]
    },
    {
     "data": {
      "text/plain": [
       "array([[10, 20],\n",
       "       [30, 40]])"
      ]
     },
     "execution_count": 56,
     "metadata": {},
     "output_type": "execute_result"
    }
   ],
   "source": [
    "# 형상이 같은 행렬끼리면 행렬의 산술 연산도 대응하는 원소별로 계산됩니다. \n",
    "# 배열과 마찬가지로 말이죠. 행렬과 스칼라값의 산술 연산도 가능합니다. \n",
    "# 이때도 배열과 마찬가지로 브로드캐스트 기능이 작동합니다.\n",
    "\n",
    "print(A)\n",
    "\n",
    "A * 10\n",
    "\n"
   ]
  },
  {
   "cell_type": "markdown",
   "metadata": {},
   "source": [
    "### 🎯노트: 넘파이 배열(np.array )은 N차원 배열을 작성할 수 있습니다.\n",
    "1차원 배열, 2차원 배열, 3차원 배열처럼 원하는 차수의 배열을 만들 수 있다는 뜻입니다. 수학에서는 1차원 배열은 벡터(vector), 2차원 배열은 행렬(matrix)이라고 부릅니다. 또 벡터와 행렬을 일반화한 것을 텐서(tensor)라 합니다. 이 책에서는 기본적으로 2차원 배열을 ‘행렬’, 3차원 이상의 배열을 ‘다차원 배열’이라 하겠습니다."
   ]
  },
  {
   "cell_type": "markdown",
   "metadata": {},
   "source": [
    "# 📌 1.5.5 브로드캐스트\n",
    "\n",
    "넘파이에서는 형상이 다른 배열끼리도 계산할 수 있습니다. 앞의 예에서는 2×2 행렬 A에 스칼라값 10을 곱했습니다. 이때 [그림 1-1]과 같이 10이라는 스칼라값이 2×2 행렬로 확대된 후 연산이 이뤄집니다. 이 똑똑한 기능을 브로드캐스트(broadcast)라고 합니다.\n",
    "\n",
    "그림 1-1 브로드캐스트의 예 : 스칼라값인 10이 2×2 행렬로 확대된다. ![그림 1-1](images/fig 1-1.png)\n",
    "\n",
    "다른 예를 살펴봅시다.\n",
    "\n",
    "> A = np.array([[1, 2], [3, 4]])    \n",
    "> B = np.array([10, 20])   \n",
    "> A * B    \n",
    "array([[ 10, 40],\n",
    "       [ 30, 80]])\n",
    "\n",
    "여기에서는 [그림 1-2]처럼 1차원 배열인 B가 ‘똑똑하게도’ 2차원 배열 A와 똑같은 형상으로 변형된 후 원소별 연산이 이뤄집니다.\n",
    "\n",
    "그림 1-2 브로드캐스트의 예 2 ![그림 1-1](images/fig 1-2.png)\n",
    "\n",
    "이처럼 넘파이가 제공하는 브로드캐스트 기능 덕분에 형상이 다른 배열끼리의 연산을 스마트하게 할 수 있습니다."
   ]
  },
  {
   "cell_type": "code",
   "execution_count": 57,
   "metadata": {},
   "outputs": [
    {
     "data": {
      "text/plain": [
       "array([[10, 40],\n",
       "       [30, 80]])"
      ]
     },
     "execution_count": 57,
     "metadata": {},
     "output_type": "execute_result"
    }
   ],
   "source": [
    "A = np.array([[1, 2], [3, 4]])    \n",
    "B = np.array([10, 20])   \n",
    "A * B  "
   ]
  },
  {
   "cell_type": "code",
   "execution_count": 58,
   "metadata": {},
   "outputs": [
    {
     "name": "stdout",
     "output_type": "stream",
     "text": [
      "[[51 55]\n",
      " [14 19]\n",
      " [ 0  4]]\n"
     ]
    },
    {
     "data": {
      "text/plain": [
       "55"
      ]
     },
     "execution_count": 58,
     "metadata": {},
     "output_type": "execute_result"
    }
   ],
   "source": [
    "## 1.5.6 원소 접근\n",
    "\n",
    "# 원소의 인덱스는 0부터 시작합니다(기억하시죠?). 그리고 각 원소에 접근하려면 다음과 같이 합니다.\n",
    "\n",
    "X = np.array([[51, 55], [14, 19], [0, 4]])  \n",
    "print(X)  \n",
    "X[0]     # 0행  \n",
    "\n",
    "X[0][1]  # (0, 1) 위치의 원소  \n"
   ]
  },
  {
   "cell_type": "code",
   "execution_count": 59,
   "metadata": {},
   "outputs": [
    {
     "name": "stdout",
     "output_type": "stream",
     "text": [
      "[51 55]\n",
      "[14 19]\n",
      "[0 4]\n"
     ]
    }
   ],
   "source": [
    "# for 문으로도 각 원소에 접근할 수 있습니다.\n",
    "\n",
    "for row in X:\n",
    "    print(row)"
   ]
  },
  {
   "cell_type": "code",
   "execution_count": null,
   "metadata": {},
   "outputs": [
    {
     "name": "stdout",
     "output_type": "stream",
     "text": [
      "[51 55 14 19  0  4]\n"
     ]
    },
    {
     "data": {
      "text/plain": [
       "array([51, 55, 19])"
      ]
     },
     "execution_count": 60,
     "metadata": {},
     "output_type": "execute_result"
    }
   ],
   "source": [
    "# 넘파이는 지금까지의 방법 외에도, 인덱스를 배열로 지정해 한 번에 여러 원소에 접근할 수도 있습니다.\n",
    "\n",
    "X = X.flatten()        # X를 1차원 배열로 변환(평탄화)\n",
    "print(X)\n",
    "\n",
    "X[np.array([0, 2, 4])] # 인덱스가 0, 2, 4인 원소 얻기\n",
    "\n",
    "\n",
    "# 이 기법을 응용하면 특정 조건을 만족하는 원소만 얻을 수 있습니다. \n",
    "# 예컨대 다음과 같이 배열 X에서 15 이상인 값만 구할 수 있습니다.\n",
    "\n",
    "X > 15\n",
    "\n",
    "X[X>15]\n",
    "\n",
    "\n",
    "# 넘파이 배열에 부등호 연산자를 사용한(앞 예에서 X>15) 결과는 bool 배열입니다. \n",
    "# 여기에서는 이 bool 배열을 사용해 배열 X에서 True에 해당하는 원소, 즉 값이 15보다 큰 원소만 꺼내고 있습니다."
   ]
  },
  {
   "cell_type": "markdown",
   "metadata": {},
   "source": [
    "##  노트: 파이썬 같은 동적 언어는 C나 C++ 같은 정적 언어(컴파일 언어)보다 처리 속도가 늦다고 합니다. \n",
    "실제로 무거운 작업을 할 때는 C/C++로 작성한 프로그램을 쓰는 편이 좋습니다. 그래서 파이썬에서 빠른 성능이 요구될 경우 해당 부분을 C/C++로 구현하곤 합니다. 그때 파이썬은 C/C++로 쓰인 프로그램을 호출해주는, 이른바 ‘중개자’ 같은 역할을 합니다. 넘파이도 주된 처리는 C와 C++로 구현했습니다. 그래서 성능을 해치지 않으면서 파이썬의 편리한 문법을 사용할 수 있는 것이죠."
   ]
  },
  {
   "cell_type": "markdown",
   "metadata": {},
   "source": [
    "# 📌 1.6 matplotlib\n",
    "\n",
    "딥러닝 실험에서는 그래프 그리기와 데이터 시각화도 중요하답니다. matplotlib은 그래프를 그려주는 라이브러리입니다. matplotlib을 사용하면 그래프 그리기와 데이터 시각화가 쉬워집니다. 이번 절에서는 그래프를 그리고 이미지를 화면에 표시하는 방법을 설명합니다."
   ]
  },
  {
   "cell_type": "code",
   "execution_count": 61,
   "metadata": {},
   "outputs": [
    {
     "data": {
      "image/png": "[encoded data removed]",
      "text/plain": [
       "<Figure size 640x480 with 1 Axes>"
      ]
     },
     "metadata": {},
     "output_type": "display_data"
    }
   ],
   "source": [
    "# 1.6.1 단순한 그래프 그리기\n",
    "\n",
    "#그래프를 그리려면 matplotlib의 pyplot 모듈을 이용합니다. 당장 sin 함수를 그리는 예를 살펴봅시다.\n",
    "\n",
    "import numpy as np\n",
    "import matplotlib.pyplot as plt\n",
    "\n",
    "# 데이터 준비\n",
    "x = np.arange(0, 6, 0.1) # 0에서 6까지 0.1 간격으로 생성\n",
    "y = np.sin(x)\n",
    "\n",
    "# 그래프 그리기\n",
    "plt.plot(x, y)\n",
    "plt.show()"
   ]
  },
  {
   "cell_type": "markdown",
   "metadata": {},
   "source": [
    "이 코드에서는 넘파이의 arange 메서드로 [0, 0.1, 0.2, ..., 5.8, 5.9]라는 데이터를 생성하여 변수 x에 할당했습니다. 그다음 줄에서는 x의 각 원소에 넘파이의 sin 함수인 np.sin ( )을 적용하여 변수 y에 할당합니다. \n",
    "이제 x와 y를 인수로 plt.plot 메서드를 호출해 그래프를 그립니다. 마지막으로 plt.show( )를 호출해 그래프를 화면에 출력하고 끝납니다. 이 코드를 실행하면 [그림 1-3]의 이미지가 그려집니다.\n",
    "\n",
    "그림 1-3 sin 함수 그래프 ![그림 1-3](images/fig 1-3.png)\n",
    "\n"
   ]
  },
  {
   "cell_type": "code",
   "execution_count": null,
   "metadata": {},
   "outputs": [],
   "source": [
    "## 1.6.2 pyplot의 기능\n",
    "\n",
    "#여기에 cos 함수도 추가로 그려보겠습니다. 또, 제목과 각 축의 이름(레이블) 표시 등, pyplot의 다른 기능도 사용해보겠습니다.\n",
    "\n",
    "import numpy as np\n",
    "import matplotlib.pyplot as plt\n",
    "\n",
    "# 데이터 준비\n",
    "x = np.arange(0, 6, 0.1) # 0에서 6까지 0.1 간격으로 생성\n",
    "y1 = np.sin(x)\n",
    "y2 = np.cos(x)\n",
    "\n",
    "# 그래프 그리기\n",
    "plt.plot(x, y1, label=\"sin\")\n",
    "plt.plot(x, y2, linestyle = \"--\", label=\"cos\") # cos 함수는 점선으로 그리기\n",
    "plt.xlabel(\"x\")        # x축 이름\n",
    "plt.ylabel(\"y\")        # y축 이름\n",
    "plt.title('sin & cos') # 제목\n",
    "plt.legend()\n",
    "plt.show()\n",
    "\n",
    "#결과는 [그림 1-4]와 같습니다. 그래프의 제목과 축 이름이 보일 겁니다.\n",
    "#그림 1-4 sin 함수와 cos 함수 그래프 ![그림 1-4](images/fig 1-4.png)"
   ]
  },
  {
   "cell_type": "code",
   "execution_count": 1,
   "metadata": {},
   "outputs": [
    {
     "data": {
      "image/png": "[encoded data removed]",
      "text/plain": [
       "<Figure size 640x480 with 1 Axes>"
      ]
     },
     "metadata": {},
     "output_type": "display_data"
    }
   ],
   "source": [
    "# 1.6.3 이미지 표시하기\n",
    "\n",
    "#pyplot에는 이미지를 표시해주는 메서드인 imshow()도 준비되어 있습니다. \n",
    "# 이미지를 읽어들일 때는 matplotlib.image 모듈의 imread() 메서드를 이용합니다. 예를 보시죠.\n",
    "\n",
    "# img.py에서 실행\n",
    "import matplotlib.pyplot as plt\n",
    "from matplotlib.image import imread\n",
    "\n",
    "img = imread('뉴진스.png') # 이미지 읽어오기(적절한 경로를 설정하세요!)\n",
    "\n",
    "\n",
    "plt.imshow(img)\n",
    "plt.show()"
   ]
  },
  {
   "cell_type": "markdown",
   "metadata": {},
   "source": [
    "이 코드를 실행하면 [그림 1-5]처럼 읽어들인 이미지가 표시됩니다. 그림 1-5 이미지 표시하기 ![그림 1-5](images/fig 1-5.png)\n",
    "\n",
    "앞의 코드에서는 cactus.png라는 이미지 파일이 현재 작업 디렉터리에 있다고 가정했습니다. 여러분은 자신의 환경에 맞게 파일 이름과 경로를 적절히 수정해야 합니다. 이 책이 제공하는 소스 코드에서는 dataset 디렉터리에서 이 cactus.png 파일을 찾을 수 있습니다. 예를 들어 파이썬 인터프리터로 ch01 디렉터리에서 이 코드를 실행한다면 이미지 경로를 ‘cactus.png’에서 ‘../dataset/cactus.png’로 변경하면 올바르게 작동합니다."
   ]
  },
  {
   "cell_type": "markdown",
   "metadata": {},
   "source": [
    "## 🚀 요약 \n",
    "\n",
    "    파이썬은 간단하고 익히기 쉬운 프로그래밍 언어다.\n",
    "    파이썬은 오픈 소스여서 자유롭게 사용할 수 있다.\n",
    "    이 책은 딥러닝 구현에 파이썬 3 버전을 이용한다.\n",
    "    외부 라이브러리로는 넘파이와 matplotlib을 이용한다.\n",
    "    파이썬을 실행하는 방식에는 ‘인터프리터’와 ‘스크립트 파일’ 두 가지가 있다.\n",
    "    파이썬에서는 함수와 클래스 같은 모듈로 구현을 정리할 수 있다.\n",
    "    넘파이는 다차원 배열을 다루는 편리한 메서드를 많이 제공한다.\n"
   ]
  }
 ],
 "metadata": {
  "kernelspec": {
   "display_name": "mini",
   "language": "python",
   "name": "python3"
  },
  "language_info": {
   "codemirror_mode": {
    "name": "ipython",
    "version": 3
   },
   "file_extension": ".py",
   "mimetype": "text/x-python",
   "name": "python",
   "nbconvert_exporter": "python",
   "pygments_lexer": "ipython3",
   "version": "3.8.20"
  }
 },
 "nbformat": 4,
 "nbformat_minor": 2
}
